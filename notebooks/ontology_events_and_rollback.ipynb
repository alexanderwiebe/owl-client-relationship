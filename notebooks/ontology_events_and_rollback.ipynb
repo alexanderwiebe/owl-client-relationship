{
  "cells": [
    {
      "cell_type": "markdown",
      "metadata": {
        "language": "markdown"
      },
      "source": [
        "# Event Logging & Rollback",
        "",
        "Parent Issue: [#4](https://github.com/alexanderwiebe/owl-client-relationship/issues/4)",
        "Status: open"
      ]
    },
    {
      "cell_type": "markdown",
      "metadata": {
        "language": "markdown"
      },
      "source": [
        "Notebook: [notebooks/ontology_events_and_rollback.ipynb](notebooks/ontology_events_and_rollback.ipynb)",
        "",
        "Phase: Phase 1 \u2014 Ontology foundation",
        "",
        "### Sub-issues"
      ]
    },
    {
      "cell_type": "markdown",
      "metadata": {
        "language": "markdown"
      },
      "source": [
        "## Sub-Issues Overview"
      ]
    },
    {
      "cell_type": "markdown",
      "metadata": {
        "language": "markdown"
      },
      "source": [
        "### Sub-issue #69: Story #4 \u2013 Create event logging table",
        "",
        "Link: [#69](https://github.com/alexanderwiebe/owl-client-relationship/issues/69)",
        "",
        "Status: open",
        "",
        "Implementation Notes:"
      ]
    },
    {
      "cell_type": "markdown",
      "metadata": {
        "language": "markdown"
      },
      "source": [
        "### Sub-issue #70: Story #4 \u2013 Implement event logging function",
        "",
        "Link: [#70](https://github.com/alexanderwiebe/owl-client-relationship/issues/70)",
        "",
        "Status: open",
        "",
        "Implementation Notes:"
      ]
    },
    {
      "cell_type": "markdown",
      "metadata": {
        "language": "markdown"
      },
      "source": [
        "### Sub-issue #71: Story #4 \u2013 Add rollback functionality",
        "",
        "Link: [#71](https://github.com/alexanderwiebe/owl-client-relationship/issues/71)",
        "",
        "Status: open",
        "",
        "Implementation Notes:"
      ]
    },
    {
      "cell_type": "markdown",
      "metadata": {
        "language": "markdown"
      },
      "source": [
        "### Sub-issue #72: Story #4 \u2013 Test event logging",
        "",
        "Link: [#72](https://github.com/alexanderwiebe/owl-client-relationship/issues/72)",
        "",
        "Status: open",
        "",
        "Implementation Notes:"
      ]
    },
    {
      "cell_type": "markdown",
      "metadata": {
        "language": "markdown"
      },
      "source": [
        "### Sub-issue #73: Story #4 \u2013 Test rollback functionality",
        "",
        "Link: [#73](https://github.com/alexanderwiebe/owl-client-relationship/issues/73)",
        "",
        "Status: open",
        "",
        "Implementation Notes:"
      ]
    }
  ],
  "metadata": {
    "kernelspec": {
      "display_name": "Python 3",
      "language": "python",
      "name": "python3"
    },
    "language_info": {
      "name": "python"
    }
  },
  "nbformat": 4,
  "nbformat_minor": 5
}
