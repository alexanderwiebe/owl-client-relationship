{
  "cells": [
    {
      "id": "30bc0493",
      "cell_type": "markdown",
      "metadata": {
        "language": "markdown"
      },
      "source": [
        "# Ontology Loading & Inspection",
        "",
        "Parent Issue: [#1](https://github.com/alexanderwiebe/owl-client-relationship/issues/1)",
        "Status: open"
      ]
    },
    {
      "id": "9513c30f",
      "cell_type": "markdown",
      "metadata": {
        "language": "markdown"
      },
      "source": [
        "Notebook: [notebooks/ontology_load_and_query.ipynb](notebooks/ontology_load_and_query.ipynb)",
        "",
        "Phase: Phase 1 \u2014 Ontology foundation",
        "",
        "### Sub-issues"
      ]
    },
    {
      "id": "4ab50f0a",
      "cell_type": "markdown",
      "metadata": {
        "language": "markdown"
      },
      "source": [
        "## Sub-Issues Overview"
      ]
    },
    {
      "id": "5d15efce",
      "cell_type": "markdown",
      "metadata": {
        "language": "markdown"
      },
      "source": [
        "### Sub-issue #14: Story #1 \u2013 Create ontology loading function",
        "",
        "Link: [#14](https://github.com/alexanderwiebe/owl-client-relationship/issues/14)",
        "",
        "Status: open",
        "",
        "Implementation Notes:"
      ]
    },
    {
      "id": "5b3d0a84",
      "cell_type": "markdown",
      "metadata": {
        "language": "markdown"
      },
      "source": [
        "### Sub-issue #15: Story #1 \u2013 Parse ontology file",
        "",
        "Link: [#15](https://github.com/alexanderwiebe/owl-client-relationship/issues/15)",
        "",
        "Status: open",
        "",
        "Implementation Notes:"
      ]
    },
    {
      "id": "a69d0ae6",
      "cell_type": "markdown",
      "metadata": {
        "language": "markdown"
      },
      "source": [
        "### Sub-issue #16: Story #1 \u2013 Validate ontology structure",
        "",
        "Link: [#16](https://github.com/alexanderwiebe/owl-client-relationship/issues/16)",
        "",
        "Status: open",
        "",
        "Implementation Notes:"
      ]
    },
    {
      "id": "0bc1993c",
      "cell_type": "markdown",
      "metadata": {
        "language": "markdown"
      },
      "source": [
        "### Sub-issue #17: Story #1 \u2013 Implement ontology inspection function",
        "",
        "Link: [#17](https://github.com/alexanderwiebe/owl-client-relationship/issues/17)",
        "",
        "Status: open",
        "",
        "Implementation Notes:"
      ]
    },
    {
      "id": "8e9e82a1",
      "cell_type": "markdown",
      "metadata": {
        "language": "markdown"
      },
      "source": [
        "### Sub-issue #18: Story #1 \u2013 Test ontology loading function",
        "",
        "Link: [#18](https://github.com/alexanderwiebe/owl-client-relationship/issues/18)",
        "",
        "Status: open",
        "",
        "Implementation Notes:"
      ]
    },
    {
      "id": "241312bc",
      "cell_type": "markdown",
      "metadata": {
        "language": "markdown"
      },
      "source": [
        "### Sub-issue #19: Story #1 \u2013 Test ontology inspection function",
        "",
        "Link: [#19](https://github.com/alexanderwiebe/owl-client-relationship/issues/19)",
        "",
        "Status: open",
        "",
        "Implementation Notes:"
      ]
    }
  ],
  "metadata": {
    "kernelspec": {
      "display_name": "Python 3",
      "language": "python",
      "name": "python3"
    },
    "language_info": {
      "name": "python"
    }
  },
  "nbformat": 4,
  "nbformat_minor": 5
}
