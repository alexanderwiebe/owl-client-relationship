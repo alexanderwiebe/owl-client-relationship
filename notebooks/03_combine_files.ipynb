{
 "cells": [
  {
   "cell_type": "markdown",
   "id": "d408a0af",
   "metadata": {},
   "source": [
    "# How to combine split ontologies\n"
   ]
  },
  {
   "cell_type": "code",
   "execution_count": 1,
   "id": "0c0644c6",
   "metadata": {},
   "outputs": [
    {
     "name": "stdout",
     "output_type": "stream",
     "text": [
      "Objects in world having same IRI reference is rel: True\n",
      "rel.iri: None\n",
      "rel.base_iri: http://example.org/owl-client-relationship#\n",
      "\n",
      "Counts:\n",
      "  Classes: 6\n",
      "  Individuals: 2\n",
      "\n",
      "Sample individuals: ['Bitovi', 'MCorp']\n"
     ]
    }
   ],
   "source": [
    "from ontopy import World\n",
    "world = World()\n",
    "# emmo = world.get_ontology('emmo-inferred').load()\n",
    "# print(f\"Ontology IRI: {emmo.base_iri}\")\n",
    "\n",
    "# Canonical ontology IRI\n",
    "ONTO_IRI = \"http://example.org/owl-client-relationship\"\n",
    "\n",
    "# Get (or create) the ontology object once\n",
    "rel = world.get_ontology(ONTO_IRI)\n",
    "\n",
    "# Load both physical files into the SAME ontology\n",
    "rel.load(filename=\"../relationship.ttl\", format=\"turtle\", only_local=True)\n",
    "\n",
    "# Add the individuals file (second load would be skipped because rel.loaded is True)\n",
    "rel.load(filename=\"../client-eg1.ttl\", format=\"turtle\", only_local=True)\n",
    "\n",
    "# Rebuild Python wrappers so .individuals() sees new resources\n",
    "rel.sync_attributes()\n",
    "\n",
    "# rel.load(filename=\"../client-eg1.ttl\", format=\"turtle\", only_local=True)\n",
    "\n",
    "print(\"Objects in world having same IRI reference is rel:\", rel is world.get_ontology(ONTO_IRI))\n",
    "\n",
    "print(f\"rel.iri: {rel.iri}\")\n",
    "print(f\"rel.base_iri: {rel.base_iri}\")\n",
    "\n",
    "print(\"\\nCounts:\")\n",
    "print(\"  Classes:\", len(list(rel.classes())))\n",
    "print(\"  Individuals:\", len(list(rel.individuals())))\n",
    "\n",
    "print(\"\\nSample individuals:\", [i.name for i in list(rel.individuals())[:20]])\n",
    "\n",
    "# If you still see 0, force reload (rarely needed)\n",
    "# rel.world._props_loaded = False\n",
    "# rel.reload()\n",
    "\n",
    "# Use rel everywhere instead of relationship / instances\n",
    "relationship = rel\n",
    "instances = rel\n",
    "# ...existing code..."
   ]
  },
  {
   "cell_type": "code",
   "execution_count": 2,
   "id": "54f1f17c",
   "metadata": {},
   "outputs": [
    {
     "name": "stdout",
     "output_type": "stream",
     "text": [
      "Individuals: ['Bitovi', 'MCorp', 'Adrian', 'Magesh', 'Terry', 'Travis', 'Avinav', 'Ben', 'Wade', 'Adisa']\n"
     ]
    }
   ],
   "source": [
    "# Helper to append triples from an extra Turtle file into an existing ontology\n",
    "import rdflib\n",
    "\n",
    "def append_turtle(onto, path):\n",
    "    g2 = rdflib.Graph()\n",
    "    g2.parse(path, format=\"turtle\")\n",
    "    with onto:\n",
    "        store_graph = onto.world.as_rdflib_graph()\n",
    "        for t in g2:\n",
    "            store_graph.add(t)\n",
    "    onto.sync_attributes()\n",
    "\n",
    "from ontopy import World\n",
    "world = World()\n",
    "rel = world.get_ontology(ONTO_IRI).load(filename=\"../relationship.ttl\", format=\"turtle\", only_local=True)\n",
    "append_turtle(rel, \"../client-eg1.ttl\")\n",
    "print(\"Individuals:\", [i.name for i in rel.individuals()])"
   ]
  },
  {
   "cell_type": "code",
   "execution_count": 3,
   "id": "94050bdb",
   "metadata": {},
   "outputs": [
    {
     "name": "stdout",
     "output_type": "stream",
     "text": [
      "TBox classes: 6\n",
      "All individuals (ABox): ['Adrian', 'Wade', 'Adisa', 'Magesh', 'Terry', 'Travis', 'Avinav', 'Ben']\n",
      "[owl-client-relationship.Organization, owl-client-relationship.Person, owl-client-relationship.Consultant, owl-client-relationship.Consultant Manager, owl-client-relationship.Client Manager, owl-client-relationship.Client]\n"
     ]
    }
   ],
   "source": [
    "from ontopy import World\n",
    "world = World()\n",
    "\n",
    "TBOX_IRI = \"http://example.org/owl-client-relationship\"\n",
    "ABOX_IRI = \"http://example.org/owl-client-relationship/abox\"\n",
    "\n",
    "world = World()\n",
    "\n",
    "# 1. Preload TBox (classes/properties)\n",
    "tbox = world.get_ontology(TBOX_IRI).load(\n",
    "    filename=\"../relationship.ttl\",\n",
    "    format=\"turtle\",\n",
    "    only_local=True\n",
    ")\n",
    "\n",
    "# 2. Load ABox (individuals) that imports the TBox\n",
    "abox = world.get_ontology(ABOX_IRI).load(\n",
    "    filename=\"../client-eg1.ttl\",\n",
    "    format=\"turtle\",\n",
    "    only_local=True\n",
    ")\n",
    "\n",
    "print(\"TBox classes:\", len(list(world.get_ontology(\"http://example.org/owl-client-relationship\").classes())))\n",
    "print(\"All individuals (ABox):\", [i.name for i in abox.individuals()])\n",
    "relationship = world.get_ontology(\"http://example.org/owl-client-relationship\")\n",
    "instances = abox\n",
    "\n",
    "print(list(world.classes()))"
   ]
  }
 ],
 "metadata": {
  "kernelspec": {
   "display_name": "Python 3",
   "language": "python",
   "name": "python3"
  },
  "language_info": {
   "codemirror_mode": {
    "name": "ipython",
    "version": 3
   },
   "file_extension": ".py",
   "mimetype": "text/x-python",
   "name": "python",
   "nbconvert_exporter": "python",
   "pygments_lexer": "ipython3",
   "version": "3.11.13"
  }
 },
 "nbformat": 4,
 "nbformat_minor": 5
}
