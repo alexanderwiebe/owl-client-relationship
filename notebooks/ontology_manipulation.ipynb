{
  "cells": [
    {
      "cell_type": "markdown",
      "metadata": {
        "language": "markdown"
      },
      "source": [
        "# Ontology Manipulation",
        "",
        "Parent Issue: [#2](https://github.com/alexanderwiebe/owl-client-relationship/issues/2)",
        "Status: open"
      ]
    },
    {
      "cell_type": "markdown",
      "metadata": {
        "language": "markdown"
      },
      "source": [
        "Notebook: [notebooks/ontology_manipulation.ipynb](notebooks/ontology_manipulation.ipynb)",
        "",
        "Phase: Phase 1 \u2014 Ontology foundation",
        "",
        "### Sub-issues"
      ]
    },
    {
      "cell_type": "markdown",
      "metadata": {
        "language": "markdown"
      },
      "source": [
        "## Sub-Issues Overview"
      ]
    },
    {
      "cell_type": "markdown",
      "metadata": {
        "language": "markdown"
      },
      "source": [
        "### Sub-issue #80: Story #2 \u2013 Create ontology data structure",
        "",
        "Link: [#80](https://github.com/alexanderwiebe/owl-client-relationship/issues/80)",
        "",
        "Status: open",
        "",
        "Implementation Notes:"
      ]
    },
    {
      "cell_type": "markdown",
      "metadata": {
        "language": "markdown"
      },
      "source": [
        "### Sub-issue #81: Story #2 \u2013 Implement ontology loading function",
        "",
        "Link: [#81](https://github.com/alexanderwiebe/owl-client-relationship/issues/81)",
        "",
        "Status: open",
        "",
        "Implementation Notes:"
      ]
    },
    {
      "cell_type": "markdown",
      "metadata": {
        "language": "markdown"
      },
      "source": [
        "### Sub-issue #82: Story #2 \u2013 Add ontology editing capabilities",
        "",
        "Link: [#82](https://github.com/alexanderwiebe/owl-client-relationship/issues/82)",
        "",
        "Status: open",
        "",
        "Implementation Notes:"
      ]
    },
    {
      "cell_type": "markdown",
      "metadata": {
        "language": "markdown"
      },
      "source": [
        "### Sub-issue #83: Story #2 \u2013 Implement ontology querying function",
        "",
        "Link: [#83](https://github.com/alexanderwiebe/owl-client-relationship/issues/83)",
        "",
        "Status: open",
        "",
        "Implementation Notes:"
      ]
    },
    {
      "cell_type": "markdown",
      "metadata": {
        "language": "markdown"
      },
      "source": [
        "### Sub-issue #84: Story #2 \u2013 Integrate ontology with existing data sources",
        "",
        "Link: [#84](https://github.com/alexanderwiebe/owl-client-relationship/issues/84)",
        "",
        "Status: open",
        "",
        "Implementation Notes:"
      ]
    }
  ],
  "metadata": {
    "kernelspec": {
      "display_name": "Python 3",
      "language": "python",
      "name": "python3"
    },
    "language_info": {
      "name": "python"
    }
  },
  "nbformat": 4,
  "nbformat_minor": 5
}
