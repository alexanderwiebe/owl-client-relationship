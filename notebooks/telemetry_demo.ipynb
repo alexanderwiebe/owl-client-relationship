{
  "cells": [
    {
      "cell_type": "markdown",
      "metadata": {
        "language": "markdown"
      },
      "source": [
        "# Structured logging of ontology events",
        "",
        "Parent Issue: [#9](https://github.com/alexanderwiebe/owl-client-relationship/issues/9)",
        "Status: open"
      ]
    },
    {
      "cell_type": "markdown",
      "metadata": {
        "language": "markdown"
      },
      "source": [
        "Notebook: [notebooks/telemetry_demo.ipynb](notebooks/telemetry_demo.ipynb)",
        "",
        "Phase: Phase 3 \u2014 Telemetry & Observability",
        "",
        "### Sub-issues"
      ]
    },
    {
      "cell_type": "markdown",
      "metadata": {
        "language": "markdown"
      },
      "source": [
        "## Sub-Issues Overview"
      ]
    },
    {
      "cell_type": "markdown",
      "metadata": {
        "language": "markdown"
      },
      "source": [
        "### Sub-issue #39: Story #9 \u2013 Create logging configuration file",
        "",
        "Link: [#39](https://github.com/alexanderwiebe/owl-client-relationship/issues/39)",
        "",
        "Status: open",
        "",
        "Implementation Notes:"
      ]
    },
    {
      "cell_type": "markdown",
      "metadata": {
        "language": "markdown"
      },
      "source": [
        "### Sub-issue #40: Story #9 \u2013 Implement logging in ontology event handlers",
        "",
        "Link: [#40](https://github.com/alexanderwiebe/owl-client-relationship/issues/40)",
        "",
        "Status: open",
        "",
        "Implementation Notes:"
      ]
    },
    {
      "cell_type": "markdown",
      "metadata": {
        "language": "markdown"
      },
      "source": [
        "### Sub-issue #41: Story #9 \u2013 Define log message format",
        "",
        "Link: [#41](https://github.com/alexanderwiebe/owl-client-relationship/issues/41)",
        "",
        "Status: open",
        "",
        "Implementation Notes:"
      ]
    },
    {
      "cell_type": "markdown",
      "metadata": {
        "language": "markdown"
      },
      "source": [
        "### Sub-issue #42: Story #9 \u2013 Add log level filtering",
        "",
        "Link: [#42](https://github.com/alexanderwiebe/owl-client-relationship/issues/42)",
        "",
        "Status: open",
        "",
        "Implementation Notes:"
      ]
    },
    {
      "cell_type": "markdown",
      "metadata": {
        "language": "markdown"
      },
      "source": [
        "### Sub-issue #43: Story #9 \u2013 Integrate logging with existing telemetry system",
        "",
        "Link: [#43](https://github.com/alexanderwiebe/owl-client-relationship/issues/43)",
        "",
        "Status: open",
        "",
        "Implementation Notes:"
      ]
    }
  ],
  "metadata": {
    "kernelspec": {
      "display_name": "Python 3",
      "language": "python",
      "name": "python3"
    },
    "language_info": {
      "name": "python"
    }
  },
  "nbformat": 4,
  "nbformat_minor": 5
}
