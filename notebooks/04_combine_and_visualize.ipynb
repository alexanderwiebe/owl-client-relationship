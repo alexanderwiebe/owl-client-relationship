{
 "cells": [
  {
   "cell_type": "code",
   "execution_count": 2,
   "id": "fc111046",
   "metadata": {},
   "outputs": [
    {
     "name": "stdout",
     "output_type": "stream",
     "text": [
      "TBox classes: 6\n",
      "All individuals (ABox): ['Wade', 'Avinav', 'Travis', 'Magesh', 'Terry', 'Adisa', 'Ben', 'Adrian']\n",
      "all classes:  [owl-client-relationship.Person, owl-client-relationship.Organization, owl-client-relationship.Consultant Manager, owl-client-relationship.Consultant, owl-client-relationship.Client Manager, owl-client-relationship.Client]\n",
      "all individuals:  [owl-client-relationship.Bitovi, owl-client-relationship.M Corp, owl-client-relationship.Wade, owl-client-relationship.Avinav, owl-client-relationship.Travis, owl-client-relationship.Magesh, owl-client-relationship.Terry, owl-client-relationship.Adisa, owl-client-relationship.Ben, owl-client-relationship.Adrian]\n"
     ]
    }
   ],
   "source": [
    "# combine two turtle files and visualize\n",
    "from ontopy import World\n",
    "world = World()\n",
    "\n",
    "TBOX_IRI = \"http://example.org/owl-client-relationship\"\n",
    "ABOX_IRI = \"http://example.org/owl-client-relationship/abox\"\n",
    "\n",
    "world = World()\n",
    "\n",
    "# 1. Preload TBox (classes/properties)\n",
    "tbox = world.get_ontology(TBOX_IRI).load(\n",
    "    filename=\"../relationship.ttl\",\n",
    "    format=\"turtle\",\n",
    "    only_local=True\n",
    ")\n",
    "\n",
    "# 2. Load ABox (individuals) that imports the TBox\n",
    "abox = world.get_ontology(ABOX_IRI).load(\n",
    "    filename=\"../client-eg1.ttl\",\n",
    "    format=\"turtle\",\n",
    "    only_local=True\n",
    ")\n",
    "\n",
    "print(\"TBox classes:\", len(list(world.get_ontology(\"http://example.org/owl-client-relationship\").classes())))\n",
    "print(\"All individuals (ABox):\", [i.name for i in abox.individuals()])\n",
    "relationship = world.get_ontology(\"http://example.org/owl-client-relationship\")\n",
    "instances = abox\n",
    "\n",
    "print('all classes: ', list(world.classes()))\n",
    "print('all individuals: ', list(world.individuals()))\n",
    "\n"
   ]
  },
  {
   "cell_type": "code",
   "execution_count": 3,
   "id": "4c0664ba",
   "metadata": {},
   "outputs": [
    {
     "name": "stdout",
     "output_type": "stream",
     "text": [
      "Graph nodes: 5\n",
      "Graph edges: 6\n",
      "First few nodes: ['Consultant Manager', 'Thing', 'Client Manager', 'Person', 'Consultant']\n"
     ]
    }
   ],
   "source": [
    "from ontopy.graph import OntoGraph\n",
    "g = OntoGraph(abox, abox.Person, parents=3, relations='all', edgelabels=True, addnodes=True)\n",
    "\n",
    "print(f\"Graph nodes: {len(g.nodes)}\")\n",
    "print(f\"Graph edges: {len(g.edges)}\")\n",
    "print(\"First few nodes:\", list(g.nodes)[:25])"
   ]
  },
  {
   "cell_type": "code",
   "execution_count": 4,
   "id": "ccd01117",
   "metadata": {},
   "outputs": [
    {
     "data": {
      "image/svg+xml": [
       "<svg xmlns=\"http://www.w3.org/2000/svg\" xmlns:xlink=\"http://www.w3.org/1999/xlink\" width=\"536pt\" height=\"305pt\" viewBox=\"0.00 0.00 535.93 305.00\">\n",
       "<g id=\"graph0\" class=\"graph\" transform=\"scale(1 1) rotate(0) translate(4 301)\">\n",
       "<title>%3</title>\n",
       "<polygon fill=\"white\" stroke=\"transparent\" points=\"-4,4 -4,-301 531.93,-301 531.93,4 -4,4\"/>\n",
       "<!-- Consultant -->\n",
       "<g id=\"node1\" class=\"node\">\n",
       "<title>Consultant</title>\n",
       "<g id=\"a_node1\"><a xlink:href=\"http://example.org/owl-client-relationship#Consultant\" xlink:title=\"Consultant\">\n",
       "<ellipse fill=\"#ffffcc\" stroke=\"black\" cx=\"119.93\" cy=\"-18\" rx=\"61.99\" ry=\"18\"/>\n",
       "<text text-anchor=\"middle\" x=\"119.93\" y=\"-14.3\" font-family=\"Times,serif\" font-size=\"14.00\">Consultant</text>\n",
       "</a>\n",
       "</g>\n",
       "</g>\n",
       "<!-- Person -->\n",
       "<g id=\"node2\" class=\"node\">\n",
       "<title>Person</title>\n",
       "<g id=\"a_node2\"><a xlink:href=\"http://example.org/owl-client-relationship#Person\" xlink:title=\"Person\">\n",
       "<ellipse fill=\"#ffffcc\" stroke=\"black\" stroke-width=\"2\" cx=\"119.93\" cy=\"-192\" rx=\"42.49\" ry=\"18\"/>\n",
       "<text text-anchor=\"middle\" x=\"119.93\" y=\"-188.3\" font-family=\"Times,serif\" font-size=\"14.00\">Person</text>\n",
       "</a>\n",
       "</g>\n",
       "</g>\n",
       "<!-- Consultant&#45;&gt;Person -->\n",
       "<g id=\"edge4\" class=\"edge\">\n",
       "<title>Consultant-&gt;Person</title>\n",
       "<path fill=\"none\" stroke=\"black\" d=\"M79.03,-31.62C53.07,-42 21.52,-59.55 5.93,-87 -1.98,-100.91 -1.98,-109.09 5.93,-123 21.01,-149.56 51.04,-166.85 76.5,-177.35\"/>\n",
       "<polygon fill=\"none\" stroke=\"black\" points=\"75.4,-180.67 85.99,-181.04 77.94,-174.15 75.4,-180.67\"/>\n",
       "<text text-anchor=\"middle\" x=\"16.93\" y=\"-101.3\" font-family=\"Times,serif\" font-size=\"14.00\">isA</text>\n",
       "</g>\n",
       "<!-- Client Manager -->\n",
       "<g id=\"node3\" class=\"node\">\n",
       "<title>Client Manager</title>\n",
       "<g id=\"a_node3\"><a xlink:href=\"http://example.org/owl-client-relationship#ClientManager\" xlink:title=\"Client Manager\">\n",
       "<ellipse fill=\"#ffffcc\" stroke=\"black\" cx=\"119.93\" cy=\"-105\" rx=\"83.39\" ry=\"18\"/>\n",
       "<text text-anchor=\"middle\" x=\"119.93\" y=\"-101.3\" font-family=\"Times,serif\" font-size=\"14.00\">Client Manager</text>\n",
       "</a>\n",
       "</g>\n",
       "</g>\n",
       "<!-- Consultant&#45;&gt;Client Manager -->\n",
       "<g id=\"edge6\" class=\"edge\">\n",
       "<title>Consultant-&gt;Client Manager</title>\n",
       "<path fill=\"none\" stroke=\"black\" d=\"M119.93,-36.2C119.93,-47.84 119.93,-63.45 119.93,-76.76\"/>\n",
       "<polygon fill=\"black\" stroke=\"black\" points=\"116.43,-76.82 119.93,-86.82 123.43,-76.82 116.43,-76.82\"/>\n",
       "<text text-anchor=\"middle\" x=\"209.43\" y=\"-57.8\" font-family=\"Times,serif\" font-size=\"14.00\">has client manager some</text>\n",
       "</g>\n",
       "<!-- Consultant Manager -->\n",
       "<g id=\"node4\" class=\"node\">\n",
       "<title>Consultant Manager</title>\n",
       "<g id=\"a_node4\"><a xlink:href=\"http://example.org/owl-client-relationship#ConsultantManager\" xlink:title=\"Consultant Manager\">\n",
       "<ellipse fill=\"#ffffcc\" stroke=\"black\" cx=\"326.93\" cy=\"-105\" rx=\"105.88\" ry=\"18\"/>\n",
       "<text text-anchor=\"middle\" x=\"326.93\" y=\"-101.3\" font-family=\"Times,serif\" font-size=\"14.00\">Consultant Manager</text>\n",
       "</a>\n",
       "</g>\n",
       "</g>\n",
       "<!-- Consultant&#45;&gt;Consultant Manager -->\n",
       "<g id=\"edge5\" class=\"edge\">\n",
       "<title>Consultant-&gt;Consultant Manager</title>\n",
       "<path fill=\"none\" stroke=\"black\" d=\"M177.8,-24.54C223.51,-29.91 282.69,-39.42 301.93,-54 309.57,-59.79 315.04,-68.56 318.87,-77.15\"/>\n",
       "<polygon fill=\"black\" stroke=\"black\" points=\"315.65,-78.54 322.53,-86.6 322.18,-76.01 315.65,-78.54\"/>\n",
       "<text text-anchor=\"middle\" x=\"420.93\" y=\"-57.8\" font-family=\"Times,serif\" font-size=\"14.00\">has consultant manager some</text>\n",
       "</g>\n",
       "<!-- Thing -->\n",
       "<g id=\"node5\" class=\"node\">\n",
       "<title>Thing</title>\n",
       "<g id=\"a_node5\"><a xlink:href=\"http://www.w3.org/2002/07/owl#Thing\" xlink:title=\"Thing\">\n",
       "<ellipse fill=\"#ffffcc\" stroke=\"red\" cx=\"119.93\" cy=\"-279\" rx=\"37.09\" ry=\"18\"/>\n",
       "<text text-anchor=\"middle\" x=\"119.93\" y=\"-275.3\" font-family=\"Times,serif\" font-size=\"14.00\">Thing</text>\n",
       "</a>\n",
       "</g>\n",
       "</g>\n",
       "<!-- Person&#45;&gt;Thing -->\n",
       "<g id=\"edge3\" class=\"edge\">\n",
       "<title>Person-&gt;Thing</title>\n",
       "<path fill=\"none\" stroke=\"black\" d=\"M119.93,-210.2C119.93,-221.84 119.93,-237.45 119.93,-250.76\"/>\n",
       "<polygon fill=\"none\" stroke=\"black\" points=\"116.43,-250.82 119.93,-260.82 123.43,-250.82 116.43,-250.82\"/>\n",
       "<text text-anchor=\"middle\" x=\"130.93\" y=\"-231.8\" font-family=\"Times,serif\" font-size=\"14.00\">isA</text>\n",
       "</g>\n",
       "<!-- Client Manager&#45;&gt;Person -->\n",
       "<g id=\"edge1\" class=\"edge\">\n",
       "<title>Client Manager-&gt;Person</title>\n",
       "<path fill=\"none\" stroke=\"black\" d=\"M119.93,-123.2C119.93,-134.84 119.93,-150.45 119.93,-163.76\"/>\n",
       "<polygon fill=\"none\" stroke=\"black\" points=\"116.43,-163.82 119.93,-173.82 123.43,-163.82 116.43,-163.82\"/>\n",
       "<text text-anchor=\"middle\" x=\"130.93\" y=\"-144.8\" font-family=\"Times,serif\" font-size=\"14.00\">isA</text>\n",
       "</g>\n",
       "<!-- Consultant Manager&#45;&gt;Person -->\n",
       "<g id=\"edge2\" class=\"edge\">\n",
       "<title>Consultant Manager-&gt;Person</title>\n",
       "<path fill=\"none\" stroke=\"black\" d=\"M288.48,-121.79C251.45,-136.99 195.74,-159.87 158.63,-175.11\"/>\n",
       "<polygon fill=\"none\" stroke=\"black\" points=\"157.07,-171.96 149.15,-179 159.73,-178.44 157.07,-171.96\"/>\n",
       "<text text-anchor=\"middle\" x=\"245.93\" y=\"-144.8\" font-family=\"Times,serif\" font-size=\"14.00\">isA</text>\n",
       "</g>\n",
       "</g>\n",
       "</svg>"
      ],
      "text/plain": [
       "<IPython.core.display.SVG object>"
      ]
     },
     "metadata": {},
     "output_type": "display_data"
    }
   ],
   "source": [
    "try:\n",
    "    g.dot.render(format='svg', view=False)\n",
    "    from IPython.display import SVG, display\n",
    "    display(SVG(g.dot.pipe(format='svg')))\n",
    "except:\n",
    "    print(\"Graphviz not available, showing source code instead:\")\n",
    "    print(g.dot.source)"
   ]
  },
  {
   "cell_type": "code",
   "execution_count": 5,
   "id": "fb2fcaac",
   "metadata": {},
   "outputs": [
    {
     "data": {
      "application/vnd.jupyter.widget-view+json": {
       "model_id": "496ecc8e0f6a476aaa26db1c88d857d5",
       "version_major": 2,
       "version_minor": 0
      },
      "text/plain": [
       "VBox(children=(CytoscapeWidget(cytoscape_layout={'name': 'cola'}, cytoscape_style=[{'selector': 'node', 'css':…"
      ]
     },
     "metadata": {},
     "output_type": "display_data"
    }
   ],
   "source": [
    "from ontopy.graph import OntoGraph, cytoscapegraph\n",
    "graph = cytoscapegraph(g, onto=relationship)\n",
    "display(graph)"
   ]
  },
  {
   "cell_type": "markdown",
   "id": "b2a26da2",
   "metadata": {},
   "source": [
    "Looks like you can't easily visualize individuals in the graph"
   ]
  }
 ],
 "metadata": {
  "kernelspec": {
   "display_name": "Python 3",
   "language": "python",
   "name": "python3"
  },
  "language_info": {
   "codemirror_mode": {
    "name": "ipython",
    "version": 3
   },
   "file_extension": ".py",
   "mimetype": "text/x-python",
   "name": "python",
   "nbconvert_exporter": "python",
   "pygments_lexer": "ipython3",
   "version": "3.11.13"
  }
 },
 "nbformat": 4,
 "nbformat_minor": 5
}
