{
 "cells": [
  {
   "cell_type": "code",
   "execution_count": 7,
   "id": "fc111046",
   "metadata": {},
   "outputs": [
    {
     "name": "stdout",
     "output_type": "stream",
     "text": [
      "TBox classes: 6\n",
      "All individuals (ABox): ['Ben', 'Adisa', 'Magesh', 'Terry', 'Adrian', 'Wade', 'Avinav', 'Travis']\n",
      "all classes:  [owl-client-relationship.Client Manager, owl-client-relationship.Client, owl-client-relationship.Consultant, owl-client-relationship.Person, owl-client-relationship.Consultant Manager, owl-client-relationship.Organization]\n",
      "all individuals:  [owl-client-relationship.Bitovi, owl-client-relationship.M Corp, owl-client-relationship.Ben, owl-client-relationship.Adisa, owl-client-relationship.Magesh, owl-client-relationship.Terry, owl-client-relationship.Adrian, owl-client-relationship.Wade, owl-client-relationship.Avinav, owl-client-relationship.Travis]\n"
     ]
    }
   ],
   "source": [
    "# combine two turtle files and visualize\n",
    "from ontopy import World\n",
    "world = World()\n",
    "\n",
    "TBOX_IRI = \"http://example.org/owl-client-relationship\"\n",
    "ABOX_IRI = \"http://example.org/owl-client-relationship/abox\"\n",
    "\n",
    "world = World()\n",
    "\n",
    "# 1. Preload TBox (classes/properties)\n",
    "tbox = world.get_ontology(TBOX_IRI).load(\n",
    "    filename=\"../relationship.ttl\",\n",
    "    format=\"turtle\",\n",
    "    only_local=True\n",
    ")\n",
    "\n",
    "# 2. Load ABox (individuals) that imports the TBox\n",
    "abox = world.get_ontology(ABOX_IRI).load(\n",
    "    filename=\"../client-eg1.ttl\",\n",
    "    format=\"turtle\",\n",
    "    only_local=True\n",
    ")\n",
    "\n",
    "print(\"TBox classes:\", len(list(world.get_ontology(\"http://example.org/owl-client-relationship\").classes())))\n",
    "print(\"All individuals (ABox):\", [i.name for i in abox.individuals()])\n",
    "relationship = world.get_ontology(\"http://example.org/owl-client-relationship\")\n",
    "instances = abox\n",
    "\n",
    "print('all classes: ', list(world.classes()))\n",
    "print('all individuals: ', list(world.individuals()))\n",
    "\n"
   ]
  },
  {
   "cell_type": "code",
   "execution_count": 38,
   "id": "4c0664ba",
   "metadata": {},
   "outputs": [
    {
     "name": "stdout",
     "output_type": "stream",
     "text": [
      "Graph nodes: 5\n",
      "Graph edges: 4\n",
      "First few nodes: ['Consultant', 'Consultant Manager', 'Thing', 'Person', 'Client Manager']\n"
     ]
    }
   ],
   "source": [
    "from ontopy.graph import OntoGraph\n",
    "g = OntoGraph(abox, abox.Person, parents=3, relations='all', edgelabels=True, addnodes=True)\n",
    "\n",
    "print(f\"Graph nodes: {len(g.nodes)}\")\n",
    "print(f\"Graph edges: {len(g.edges)}\")\n",
    "print(\"First few nodes:\", list(g.nodes)[:25])"
   ]
  },
  {
   "cell_type": "code",
   "execution_count": 39,
   "id": "ccd01117",
   "metadata": {},
   "outputs": [
    {
     "data": {
      "image/svg+xml": [
       "<svg xmlns=\"http://www.w3.org/2000/svg\" xmlns:xlink=\"http://www.w3.org/1999/xlink\" width=\"546pt\" height=\"218pt\" viewBox=\"0.00 0.00 546.13 218.00\">\n",
       "<g id=\"graph0\" class=\"graph\" transform=\"scale(1 1) rotate(0) translate(4 214)\">\n",
       "<title>%3</title>\n",
       "<polygon fill=\"white\" stroke=\"transparent\" points=\"-4,4 -4,-214 542.13,-214 542.13,4 -4,4\"/>\n",
       "<!-- Client Manager -->\n",
       "<g id=\"node1\" class=\"node\">\n",
       "<title>Client Manager</title>\n",
       "<g id=\"a_node1\"><a xlink:href=\"http://example.org/owl-client-relationship#ClientManager\" xlink:title=\"Client Manager\">\n",
       "<ellipse fill=\"#ffffcc\" stroke=\"black\" cx=\"83.19\" cy=\"-18\" rx=\"83.39\" ry=\"18\"/>\n",
       "<text text-anchor=\"middle\" x=\"83.19\" y=\"-14.3\" font-family=\"Times,serif\" font-size=\"14.00\">Client Manager</text>\n",
       "</a>\n",
       "</g>\n",
       "</g>\n",
       "<!-- Person -->\n",
       "<g id=\"node3\" class=\"node\">\n",
       "<title>Person</title>\n",
       "<g id=\"a_node3\"><a xlink:href=\"http://example.org/owl-client-relationship#Person\" xlink:title=\"Person\">\n",
       "<ellipse fill=\"#ffffcc\" stroke=\"black\" stroke-width=\"2\" cx=\"246.19\" cy=\"-105\" rx=\"42.49\" ry=\"18\"/>\n",
       "<text text-anchor=\"middle\" x=\"246.19\" y=\"-101.3\" font-family=\"Times,serif\" font-size=\"14.00\">Person</text>\n",
       "</a>\n",
       "</g>\n",
       "</g>\n",
       "<!-- Client Manager&#45;&gt;Person -->\n",
       "<g id=\"edge1\" class=\"edge\">\n",
       "<title>Client Manager-&gt;Person</title>\n",
       "<path fill=\"none\" stroke=\"black\" d=\"M113.47,-34.79C141.22,-49.26 182.29,-70.67 211.38,-85.85\"/>\n",
       "<polygon fill=\"none\" stroke=\"black\" points=\"209.89,-89.01 220.37,-90.54 213.12,-82.81 209.89,-89.01\"/>\n",
       "<text text-anchor=\"middle\" x=\"186.19\" y=\"-57.8\" font-family=\"Times,serif\" font-size=\"14.00\">isA</text>\n",
       "</g>\n",
       "<!-- Consultant -->\n",
       "<g id=\"node2\" class=\"node\">\n",
       "<title>Consultant</title>\n",
       "<g id=\"a_node2\"><a xlink:href=\"http://example.org/owl-client-relationship#Consultant\" xlink:title=\"Consultant\">\n",
       "<ellipse fill=\"#ffffcc\" stroke=\"black\" cx=\"246.19\" cy=\"-18\" rx=\"61.99\" ry=\"18\"/>\n",
       "<text text-anchor=\"middle\" x=\"246.19\" y=\"-14.3\" font-family=\"Times,serif\" font-size=\"14.00\">Consultant</text>\n",
       "</a>\n",
       "</g>\n",
       "</g>\n",
       "<!-- Consultant&#45;&gt;Person -->\n",
       "<g id=\"edge3\" class=\"edge\">\n",
       "<title>Consultant-&gt;Person</title>\n",
       "<path fill=\"none\" stroke=\"black\" d=\"M246.19,-36.2C246.19,-47.84 246.19,-63.45 246.19,-76.76\"/>\n",
       "<polygon fill=\"none\" stroke=\"black\" points=\"242.69,-76.82 246.19,-86.82 249.69,-76.82 242.69,-76.82\"/>\n",
       "<text text-anchor=\"middle\" x=\"257.19\" y=\"-57.8\" font-family=\"Times,serif\" font-size=\"14.00\">isA</text>\n",
       "</g>\n",
       "<!-- Thing -->\n",
       "<g id=\"node5\" class=\"node\">\n",
       "<title>Thing</title>\n",
       "<g id=\"a_node5\"><a xlink:href=\"http://www.w3.org/2002/07/owl#Thing\" xlink:title=\"Thing\">\n",
       "<ellipse fill=\"#ffffcc\" stroke=\"red\" cx=\"246.19\" cy=\"-192\" rx=\"37.09\" ry=\"18\"/>\n",
       "<text text-anchor=\"middle\" x=\"246.19\" y=\"-188.3\" font-family=\"Times,serif\" font-size=\"14.00\">Thing</text>\n",
       "</a>\n",
       "</g>\n",
       "</g>\n",
       "<!-- Person&#45;&gt;Thing -->\n",
       "<g id=\"edge4\" class=\"edge\">\n",
       "<title>Person-&gt;Thing</title>\n",
       "<path fill=\"none\" stroke=\"black\" d=\"M246.19,-123.2C246.19,-134.84 246.19,-150.45 246.19,-163.76\"/>\n",
       "<polygon fill=\"none\" stroke=\"black\" points=\"242.69,-163.82 246.19,-173.82 249.69,-163.82 242.69,-163.82\"/>\n",
       "<text text-anchor=\"middle\" x=\"257.19\" y=\"-144.8\" font-family=\"Times,serif\" font-size=\"14.00\">isA</text>\n",
       "</g>\n",
       "<!-- Consultant Manager -->\n",
       "<g id=\"node4\" class=\"node\">\n",
       "<title>Consultant Manager</title>\n",
       "<g id=\"a_node4\"><a xlink:href=\"http://example.org/owl-client-relationship#ConsultantManager\" xlink:title=\"Consultant Manager\">\n",
       "<ellipse fill=\"#ffffcc\" stroke=\"black\" cx=\"432.19\" cy=\"-18\" rx=\"105.88\" ry=\"18\"/>\n",
       "<text text-anchor=\"middle\" x=\"432.19\" y=\"-14.3\" font-family=\"Times,serif\" font-size=\"14.00\">Consultant Manager</text>\n",
       "</a>\n",
       "</g>\n",
       "</g>\n",
       "<!-- Consultant Manager&#45;&gt;Person -->\n",
       "<g id=\"edge2\" class=\"edge\">\n",
       "<title>Consultant Manager-&gt;Person</title>\n",
       "<path fill=\"none\" stroke=\"black\" d=\"M396.77,-35.19C364.25,-50.05 316.24,-71.99 283.22,-87.08\"/>\n",
       "<polygon fill=\"none\" stroke=\"black\" points=\"281.55,-83.99 273.91,-91.33 284.46,-90.36 281.55,-83.99\"/>\n",
       "<text text-anchor=\"middle\" x=\"361.19\" y=\"-57.8\" font-family=\"Times,serif\" font-size=\"14.00\">isA</text>\n",
       "</g>\n",
       "</g>\n",
       "</svg>"
      ],
      "text/plain": [
       "<IPython.core.display.SVG object>"
      ]
     },
     "metadata": {},
     "output_type": "display_data"
    }
   ],
   "source": [
    "try:\n",
    "    g.dot.render(format='svg', view=False)\n",
    "    from IPython.display import SVG, display\n",
    "    display(SVG(g.dot.pipe(format='svg')))\n",
    "except:\n",
    "    print(\"Graphviz not available, showing source code instead:\")\n",
    "    print(g.dot.source)"
   ]
  },
  {
   "cell_type": "code",
   "execution_count": 40,
   "id": "fb2fcaac",
   "metadata": {},
   "outputs": [
    {
     "data": {
      "application/vnd.jupyter.widget-view+json": {
       "model_id": "a4561949c52042ee88ad4e11bb4cdae3",
       "version_major": 2,
       "version_minor": 0
      },
      "text/plain": [
       "VBox(children=(CytoscapeWidget(cytoscape_layout={'name': 'cola'}, cytoscape_style=[{'selector': 'node', 'css':…"
      ]
     },
     "metadata": {},
     "output_type": "display_data"
    }
   ],
   "source": [
    "from ontopy.graph import OntoGraph, cytoscapegraph\n",
    "graph = cytoscapegraph(g, onto=relationship)\n",
    "display(graph)"
   ]
  },
  {
   "cell_type": "markdown",
   "id": "b2a26da2",
   "metadata": {},
   "source": [
    "Looks like you can't easily visualize individuals in the graph"
   ]
  }
 ],
 "metadata": {
  "kernelspec": {
   "display_name": "Python 3",
   "language": "python",
   "name": "python3"
  },
  "language_info": {
   "codemirror_mode": {
    "name": "ipython",
    "version": 3
   },
   "file_extension": ".py",
   "mimetype": "text/x-python",
   "name": "python",
   "nbconvert_exporter": "python",
   "pygments_lexer": "ipython3",
   "version": "3.11.13"
  }
 },
 "nbformat": 4,
 "nbformat_minor": 5
}
