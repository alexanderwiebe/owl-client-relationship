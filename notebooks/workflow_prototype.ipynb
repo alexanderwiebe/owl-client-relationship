{
  "cells": [
    {
      "cell_type": "markdown",
      "metadata": {
        "language": "markdown"
      },
      "source": [
        "# Integrate Slack/CRM as external nodes",
        "",
        "Parent Issue: [#12](https://github.com/alexanderwiebe/owl-client-relationship/issues/12)",
        "Status: open"
      ]
    },
    {
      "cell_type": "markdown",
      "metadata": {
        "language": "markdown"
      },
      "source": [
        "Notebook: [notebooks/workflow_prototype.ipynb](notebooks/workflow_prototype.ipynb)",
        "",
        "Phase: Phase 4 \u2014 Workflow Orchestration (n8n)",
        "",
        "### Sub-issues"
      ]
    },
    {
      "cell_type": "markdown",
      "metadata": {
        "language": "markdown"
      },
      "source": [
        "## Sub-Issues Overview"
      ]
    },
    {
      "cell_type": "markdown",
      "metadata": {
        "language": "markdown"
      },
      "source": [
        "### Sub-issue #20: Story #12 \u2013 Create Slack node",
        "",
        "Link: [#20](https://github.com/alexanderwiebe/owl-client-relationship/issues/20)",
        "",
        "Status: open",
        "",
        "Implementation Notes:"
      ]
    },
    {
      "cell_type": "markdown",
      "metadata": {
        "language": "markdown"
      },
      "source": [
        "### Sub-issue #21: Story #12 \u2013 Create CRM node",
        "",
        "Link: [#21](https://github.com/alexanderwiebe/owl-client-relationship/issues/21)",
        "",
        "Status: open",
        "",
        "Implementation Notes:"
      ]
    },
    {
      "cell_type": "markdown",
      "metadata": {
        "language": "markdown"
      },
      "source": [
        "### Sub-issue #22: Story #12 \u2013 Configure authentication for Slack node",
        "",
        "Link: [#22](https://github.com/alexanderwiebe/owl-client-relationship/issues/22)",
        "",
        "Status: open",
        "",
        "Implementation Notes:"
      ]
    },
    {
      "cell_type": "markdown",
      "metadata": {
        "language": "markdown"
      },
      "source": [
        "### Sub-issue #23: Story #12 \u2013 Configure authentication for CRM node",
        "",
        "Link: [#23](https://github.com/alexanderwiebe/owl-client-relationship/issues/23)",
        "",
        "Status: open",
        "",
        "Implementation Notes:"
      ]
    },
    {
      "cell_type": "markdown",
      "metadata": {
        "language": "markdown"
      },
      "source": [
        "### Sub-issue #24: Story #12 \u2013 Test Slack node functionality",
        "",
        "Link: [#24](https://github.com/alexanderwiebe/owl-client-relationship/issues/24)",
        "",
        "Status: open",
        "",
        "Implementation Notes:"
      ]
    },
    {
      "cell_type": "markdown",
      "metadata": {
        "language": "markdown"
      },
      "source": [
        "### Sub-issue #25: Story #12 \u2013 Test CRM node functionality",
        "",
        "Link: [#25](https://github.com/alexanderwiebe/owl-client-relationship/issues/25)",
        "",
        "Status: open",
        "",
        "Implementation Notes:"
      ]
    },
    {
      "cell_type": "markdown",
      "metadata": {
        "language": "markdown"
      },
      "source": [
        "### Sub-issue #26: Story #12 \u2013 Create workflow in n8n",
        "",
        "Link: [#26](https://github.com/alexanderwiebe/owl-client-relationship/issues/26)",
        "",
        "Status: open",
        "",
        "Implementation Notes:"
      ]
    },
    {
      "cell_type": "markdown",
      "metadata": {
        "language": "markdown"
      },
      "source": [
        "### Sub-issue #27: Story #12 \u2013 Connect Slack node to workflow",
        "",
        "Link: [#27](https://github.com/alexanderwiebe/owl-client-relationship/issues/27)",
        "",
        "Status: open",
        "",
        "Implementation Notes:"
      ]
    },
    {
      "cell_type": "markdown",
      "metadata": {
        "language": "markdown"
      },
      "source": [
        "### Sub-issue #28: Story #12 \u2013 Connect CRM node to workflow",
        "",
        "Link: [#28](https://github.com/alexanderwiebe/owl-client-relationship/issues/28)",
        "",
        "Status: open",
        "",
        "Implementation Notes:"
      ]
    },
    {
      "cell_type": "markdown",
      "metadata": {
        "language": "markdown"
      },
      "source": [
        "### Sub-issue #29: Story #12 \u2013 Test end-to-end workflow",
        "",
        "Link: [#29](https://github.com/alexanderwiebe/owl-client-relationship/issues/29)",
        "",
        "Status: open",
        "",
        "Implementation Notes:"
      ]
    }
  ],
  "metadata": {
    "kernelspec": {
      "display_name": "Python 3",
      "language": "python",
      "name": "python3"
    },
    "language_info": {
      "name": "python"
    }
  },
  "nbformat": 4,
  "nbformat_minor": 5
}
