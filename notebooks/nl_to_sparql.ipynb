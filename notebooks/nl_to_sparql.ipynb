{
  "cells": [
    {
      "cell_type": "markdown",
      "metadata": {
        "language": "markdown"
      },
      "source": [
        "# Ontology Querying (NL \u2192 SPARQL)",
        "",
        "Parent Issue: [#3](https://github.com/alexanderwiebe/owl-client-relationship/issues/3)",
        "Status: open"
      ]
    },
    {
      "cell_type": "markdown",
      "metadata": {
        "language": "markdown"
      },
      "source": [
        "Notebook: [notebooks/nl_to_sparql.ipynb](notebooks/nl_to_sparql.ipynb)",
        "",
        "Phase: Phase 1 \u2014 Ontology foundation",
        "",
        "### Sub-issues"
      ]
    },
    {
      "cell_type": "markdown",
      "metadata": {
        "language": "markdown"
      },
      "source": [
        "## Sub-Issues Overview"
      ]
    },
    {
      "cell_type": "markdown",
      "metadata": {
        "language": "markdown"
      },
      "source": [
        "### Sub-issue #74: Story #3 \u2013 Set up NL to SPARQL translation framework",
        "",
        "Link: [#74](https://github.com/alexanderwiebe/owl-client-relationship/issues/74)",
        "",
        "Status: open",
        "",
        "Implementation Notes:"
      ]
    },
    {
      "cell_type": "markdown",
      "metadata": {
        "language": "markdown"
      },
      "source": [
        "### Sub-issue #75: Story #3 \u2013 Implement NL parsing for ontology terms",
        "",
        "Link: [#75](https://github.com/alexanderwiebe/owl-client-relationship/issues/75)",
        "",
        "Status: open",
        "",
        "Implementation Notes:"
      ]
    },
    {
      "cell_type": "markdown",
      "metadata": {
        "language": "markdown"
      },
      "source": [
        "### Sub-issue #76: Story #3 \u2013 Design SPARQL query generation logic",
        "",
        "Link: [#76](https://github.com/alexanderwiebe/owl-client-relationship/issues/76)",
        "",
        "Status: open",
        "",
        "Implementation Notes:"
      ]
    },
    {
      "cell_type": "markdown",
      "metadata": {
        "language": "markdown"
      },
      "source": [
        "### Sub-issue #77: Story #3 \u2013 Integrate NL parsing with SPARQL query generation",
        "",
        "Link: [#77](https://github.com/alexanderwiebe/owl-client-relationship/issues/77)",
        "",
        "Status: open",
        "",
        "Implementation Notes:"
      ]
    },
    {
      "cell_type": "markdown",
      "metadata": {
        "language": "markdown"
      },
      "source": [
        "### Sub-issue #78: Story #3 \u2013 Test NL to SPARQL translation framework",
        "",
        "Link: [#78](https://github.com/alexanderwiebe/owl-client-relationship/issues/78)",
        "",
        "Status: open",
        "",
        "Implementation Notes:"
      ]
    },
    {
      "cell_type": "markdown",
      "metadata": {
        "language": "markdown"
      },
      "source": [
        "### Sub-issue #79: Story #3 \u2013 Refactor code for readability and maintainability",
        "",
        "Link: [#79](https://github.com/alexanderwiebe/owl-client-relationship/issues/79)",
        "",
        "Status: open",
        "",
        "Implementation Notes:"
      ]
    }
  ],
  "metadata": {
    "kernelspec": {
      "display_name": "Python 3",
      "language": "python",
      "name": "python3"
    },
    "language_info": {
      "name": "python"
    }
  },
  "nbformat": 4,
  "nbformat_minor": 5
}
